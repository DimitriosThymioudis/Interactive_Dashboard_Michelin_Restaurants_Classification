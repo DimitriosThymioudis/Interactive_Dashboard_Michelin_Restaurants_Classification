{
 "cells": [
  {
   "cell_type": "markdown",
   "id": "e0c2c1a7-f690-4435-aaa4-a4f2a2ec5052",
   "metadata": {},
   "source": [
    "## Interactive Dashboards - Michelin Restaurants"
   ]
  },
  {
   "cell_type": "markdown",
   "id": "6e8d6444-0547-4a11-ad49-8a3f478967e4",
   "metadata": {},
   "source": [
    "### Clean and Transorm Data"
   ]
  },
  {
   "cell_type": "markdown",
   "id": "79dc30ce-9707-4360-abe5-7f394add8329",
   "metadata": {},
   "source": [
    "#### Usefull Imports"
   ]
  },
  {
   "cell_type": "code",
   "execution_count": 63,
   "id": "d9c84259-61bc-4a64-96ce-b17f85bb4d50",
   "metadata": {
    "execution": {
     "iopub.execute_input": "2023-05-27T09:51:22.041321Z",
     "iopub.status.busy": "2023-05-27T09:51:22.041321Z",
     "iopub.status.idle": "2023-05-27T09:51:22.061511Z",
     "shell.execute_reply": "2023-05-27T09:51:22.060503Z",
     "shell.execute_reply.started": "2023-05-27T09:51:22.041321Z"
    },
    "tags": []
   },
   "outputs": [],
   "source": [
    "import pandas as pd\n",
    "import numpy as np\n",
    "import matplotlib.pyplot as plt\n",
    "import seaborn as sns\n",
    "from datetime import datetime, timedelta\n",
    "from pathlib import Path\n",
    "import re"
   ]
  },
  {
   "cell_type": "markdown",
   "id": "e0a0dc9d-700f-4a07-8346-0b47ec774574",
   "metadata": {},
   "source": [
    "#### Read Data"
   ]
  },
  {
   "cell_type": "code",
   "execution_count": 7,
   "id": "ec7730b3-9262-4538-841b-42963eab72e8",
   "metadata": {
    "execution": {
     "iopub.execute_input": "2023-05-27T09:13:42.692076Z",
     "iopub.status.busy": "2023-05-27T09:13:42.690959Z",
     "iopub.status.idle": "2023-05-27T09:13:42.707071Z",
     "shell.execute_reply": "2023-05-27T09:13:42.706069Z",
     "shell.execute_reply.started": "2023-05-27T09:13:42.692076Z"
    },
    "tags": []
   },
   "outputs": [],
   "source": [
    "path1 = Path(\"one-star-michelin-restaurants.csv\")\n",
    "file_path1 = str(path1.parent.absolute().parent.absolute()) + '\\\\01. Data\\\\' + str(path1)\n",
    "\n",
    "path2 = Path(\"two-stars-michelin-restaurants.csv\")\n",
    "file_path2 = str(path2.parent.absolute().parent.absolute()) + '\\\\01. Data\\\\' + str(path2)\n",
    "\n",
    "path3 = Path(\"three-stars-michelin-restaurants.csv\")\n",
    "file_path3 = str(path3.parent.absolute().parent.absolute()) + '\\\\01. Data\\\\' + str(path3)"
   ]
  },
  {
   "cell_type": "code",
   "execution_count": 8,
   "id": "01afb78d-9acc-4a8c-aecb-26d4534f34a8",
   "metadata": {
    "execution": {
     "iopub.execute_input": "2023-05-27T09:13:44.232369Z",
     "iopub.status.busy": "2023-05-27T09:13:44.231364Z",
     "iopub.status.idle": "2023-05-27T09:13:44.260888Z",
     "shell.execute_reply": "2023-05-27T09:13:44.260888Z",
     "shell.execute_reply.started": "2023-05-27T09:13:44.232369Z"
    },
    "tags": []
   },
   "outputs": [],
   "source": [
    "df_original_1 = pd.read_csv(file_path1)\n",
    "df_original_2 = pd.read_csv(file_path2)\n",
    "df_original_3 = pd.read_csv(file_path3)"
   ]
  },
  {
   "cell_type": "markdown",
   "id": "f6c5a62c-7c51-475b-8372-7b007187461e",
   "metadata": {},
   "source": [
    "#### Transform Data"
   ]
  },
  {
   "cell_type": "code",
   "execution_count": 12,
   "id": "b24a798c-60e2-4bbc-8146-50950506a87a",
   "metadata": {
    "execution": {
     "iopub.execute_input": "2023-05-27T09:15:35.116621Z",
     "iopub.status.busy": "2023-05-27T09:15:35.115619Z",
     "iopub.status.idle": "2023-05-27T09:15:35.125159Z",
     "shell.execute_reply": "2023-05-27T09:15:35.124157Z",
     "shell.execute_reply.started": "2023-05-27T09:15:35.116621Z"
    },
    "tags": []
   },
   "outputs": [],
   "source": [
    "df_original_1['Michelin Stars'] = 1\n",
    "df_original_2['Michelin Stars'] = 2\n",
    "df_original_3['Michelin Stars'] = 3"
   ]
  },
  {
   "cell_type": "code",
   "execution_count": 13,
   "id": "015da104-0f69-4a3a-817f-b634801d1b54",
   "metadata": {
    "execution": {
     "iopub.execute_input": "2023-05-27T09:16:59.343530Z",
     "iopub.status.busy": "2023-05-27T09:16:59.343530Z",
     "iopub.status.idle": "2023-05-27T09:16:59.351070Z",
     "shell.execute_reply": "2023-05-27T09:16:59.350069Z",
     "shell.execute_reply.started": "2023-05-27T09:16:59.343530Z"
    },
    "tags": []
   },
   "outputs": [],
   "source": [
    "frames = [df_original_1, df_original_2, df_original_3]\n",
    "df = pd.concat(frames)"
   ]
  },
  {
   "cell_type": "code",
   "execution_count": 14,
   "id": "9bf1c3e7-a39f-4b02-811a-b8a61af0cedd",
   "metadata": {
    "execution": {
     "iopub.execute_input": "2023-05-27T09:17:04.781514Z",
     "iopub.status.busy": "2023-05-27T09:17:04.781514Z",
     "iopub.status.idle": "2023-05-27T09:17:04.802691Z",
     "shell.execute_reply": "2023-05-27T09:17:04.801687Z",
     "shell.execute_reply.started": "2023-05-27T09:17:04.781514Z"
    },
    "tags": []
   },
   "outputs": [
    {
     "data": {
      "text/html": [
       "<div>\n",
       "<style scoped>\n",
       "    .dataframe tbody tr th:only-of-type {\n",
       "        vertical-align: middle;\n",
       "    }\n",
       "\n",
       "    .dataframe tbody tr th {\n",
       "        vertical-align: top;\n",
       "    }\n",
       "\n",
       "    .dataframe thead th {\n",
       "        text-align: right;\n",
       "    }\n",
       "</style>\n",
       "<table border=\"1\" class=\"dataframe\">\n",
       "  <thead>\n",
       "    <tr style=\"text-align: right;\">\n",
       "      <th></th>\n",
       "      <th>name</th>\n",
       "      <th>year</th>\n",
       "      <th>latitude</th>\n",
       "      <th>longitude</th>\n",
       "      <th>city</th>\n",
       "      <th>region</th>\n",
       "      <th>zipCode</th>\n",
       "      <th>cuisine</th>\n",
       "      <th>price</th>\n",
       "      <th>url</th>\n",
       "      <th>Michelin Stars</th>\n",
       "    </tr>\n",
       "  </thead>\n",
       "  <tbody>\n",
       "    <tr>\n",
       "      <th>0</th>\n",
       "      <td>Kilian Stuba</td>\n",
       "      <td>2019</td>\n",
       "      <td>47.348580</td>\n",
       "      <td>10.171140</td>\n",
       "      <td>Kleinwalsertal</td>\n",
       "      <td>Austria</td>\n",
       "      <td>87568</td>\n",
       "      <td>Creative</td>\n",
       "      <td>$$$$$</td>\n",
       "      <td>https://guide.michelin.com/at/en/vorarlberg/kl...</td>\n",
       "      <td>1</td>\n",
       "    </tr>\n",
       "    <tr>\n",
       "      <th>1</th>\n",
       "      <td>Pfefferschiff</td>\n",
       "      <td>2019</td>\n",
       "      <td>47.837870</td>\n",
       "      <td>13.079170</td>\n",
       "      <td>Hallwang</td>\n",
       "      <td>Austria</td>\n",
       "      <td>5300</td>\n",
       "      <td>Classic cuisine</td>\n",
       "      <td>$$$$$</td>\n",
       "      <td>https://guide.michelin.com/at/en/salzburg-regi...</td>\n",
       "      <td>1</td>\n",
       "    </tr>\n",
       "    <tr>\n",
       "      <th>2</th>\n",
       "      <td>Esszimmer</td>\n",
       "      <td>2019</td>\n",
       "      <td>47.806850</td>\n",
       "      <td>13.034090</td>\n",
       "      <td>Salzburg</td>\n",
       "      <td>Austria</td>\n",
       "      <td>5020</td>\n",
       "      <td>Creative</td>\n",
       "      <td>$$$$$</td>\n",
       "      <td>https://guide.michelin.com/at/en/salzburg-regi...</td>\n",
       "      <td>1</td>\n",
       "    </tr>\n",
       "    <tr>\n",
       "      <th>3</th>\n",
       "      <td>Carpe Diem</td>\n",
       "      <td>2019</td>\n",
       "      <td>47.800010</td>\n",
       "      <td>13.040060</td>\n",
       "      <td>Salzburg</td>\n",
       "      <td>Austria</td>\n",
       "      <td>5020</td>\n",
       "      <td>Market cuisine</td>\n",
       "      <td>$$$$$</td>\n",
       "      <td>https://guide.michelin.com/at/en/salzburg-regi...</td>\n",
       "      <td>1</td>\n",
       "    </tr>\n",
       "    <tr>\n",
       "      <th>4</th>\n",
       "      <td>Edvard</td>\n",
       "      <td>2019</td>\n",
       "      <td>48.216503</td>\n",
       "      <td>16.368520</td>\n",
       "      <td>Wien</td>\n",
       "      <td>Austria</td>\n",
       "      <td>1010</td>\n",
       "      <td>Modern cuisine</td>\n",
       "      <td>$$$$</td>\n",
       "      <td>https://guide.michelin.com/at/en/vienna/wien/r...</td>\n",
       "      <td>1</td>\n",
       "    </tr>\n",
       "    <tr>\n",
       "      <th>...</th>\n",
       "      <td>...</td>\n",
       "      <td>...</td>\n",
       "      <td>...</td>\n",
       "      <td>...</td>\n",
       "      <td>...</td>\n",
       "      <td>...</td>\n",
       "      <td>...</td>\n",
       "      <td>...</td>\n",
       "      <td>...</td>\n",
       "      <td>...</td>\n",
       "      <td>...</td>\n",
       "    </tr>\n",
       "    <tr>\n",
       "      <th>31</th>\n",
       "      <td>Fat Duck</td>\n",
       "      <td>2019</td>\n",
       "      <td>51.508280</td>\n",
       "      <td>-0.702320</td>\n",
       "      <td>Bray</td>\n",
       "      <td>United Kingdom</td>\n",
       "      <td>SL6 2AQ</td>\n",
       "      <td>Creative</td>\n",
       "      <td>NaN</td>\n",
       "      <td>https://guide.michelin.com/gb/en/buckinghamshi...</td>\n",
       "      <td>3</td>\n",
       "    </tr>\n",
       "    <tr>\n",
       "      <th>32</th>\n",
       "      <td>Waterside Inn</td>\n",
       "      <td>2019</td>\n",
       "      <td>51.507730</td>\n",
       "      <td>-0.701210</td>\n",
       "      <td>Bray</td>\n",
       "      <td>United Kingdom</td>\n",
       "      <td>SL6 2AT</td>\n",
       "      <td>Classic French</td>\n",
       "      <td>NaN</td>\n",
       "      <td>https://guide.michelin.com/gb/en/buckinghamshi...</td>\n",
       "      <td>3</td>\n",
       "    </tr>\n",
       "    <tr>\n",
       "      <th>33</th>\n",
       "      <td>Alain Ducasse at The Dorchester</td>\n",
       "      <td>2019</td>\n",
       "      <td>51.507120</td>\n",
       "      <td>-0.152520</td>\n",
       "      <td>Mayfair</td>\n",
       "      <td>United Kingdom</td>\n",
       "      <td>W1K 1QA</td>\n",
       "      <td>French</td>\n",
       "      <td>NaN</td>\n",
       "      <td>https://guide.michelin.com/gb/en/greater-londo...</td>\n",
       "      <td>3</td>\n",
       "    </tr>\n",
       "    <tr>\n",
       "      <th>34</th>\n",
       "      <td>The Araki</td>\n",
       "      <td>2019</td>\n",
       "      <td>51.511826</td>\n",
       "      <td>-0.140389</td>\n",
       "      <td>Mayfair</td>\n",
       "      <td>United Kingdom</td>\n",
       "      <td>W1S 3BF</td>\n",
       "      <td>Japanese</td>\n",
       "      <td>NaN</td>\n",
       "      <td>https://guide.michelin.com/gb/en/greater-londo...</td>\n",
       "      <td>3</td>\n",
       "    </tr>\n",
       "    <tr>\n",
       "      <th>35</th>\n",
       "      <td>Gordon Ramsay</td>\n",
       "      <td>2019</td>\n",
       "      <td>51.485460</td>\n",
       "      <td>-0.162020</td>\n",
       "      <td>Chelsea</td>\n",
       "      <td>United Kingdom</td>\n",
       "      <td>SW3 4HP</td>\n",
       "      <td>French</td>\n",
       "      <td>NaN</td>\n",
       "      <td>https://guide.michelin.com/gb/en/greater-londo...</td>\n",
       "      <td>3</td>\n",
       "    </tr>\n",
       "  </tbody>\n",
       "</table>\n",
       "<p>695 rows × 11 columns</p>\n",
       "</div>"
      ],
      "text/plain": [
       "                               name  year   latitude  longitude  \\\n",
       "0                      Kilian Stuba  2019  47.348580  10.171140   \n",
       "1                     Pfefferschiff  2019  47.837870  13.079170   \n",
       "2                         Esszimmer  2019  47.806850  13.034090   \n",
       "3                        Carpe Diem  2019  47.800010  13.040060   \n",
       "4                            Edvard  2019  48.216503  16.368520   \n",
       "..                              ...   ...        ...        ...   \n",
       "31                         Fat Duck  2019  51.508280  -0.702320   \n",
       "32                    Waterside Inn  2019  51.507730  -0.701210   \n",
       "33  Alain Ducasse at The Dorchester  2019  51.507120  -0.152520   \n",
       "34                        The Araki  2019  51.511826  -0.140389   \n",
       "35                    Gordon Ramsay  2019  51.485460  -0.162020   \n",
       "\n",
       "              city          region  zipCode          cuisine  price  \\\n",
       "0   Kleinwalsertal         Austria    87568         Creative  $$$$$   \n",
       "1         Hallwang         Austria     5300  Classic cuisine  $$$$$   \n",
       "2         Salzburg         Austria     5020         Creative  $$$$$   \n",
       "3         Salzburg         Austria     5020   Market cuisine  $$$$$   \n",
       "4             Wien         Austria     1010   Modern cuisine   $$$$   \n",
       "..             ...             ...      ...              ...    ...   \n",
       "31            Bray  United Kingdom  SL6 2AQ         Creative    NaN   \n",
       "32            Bray  United Kingdom  SL6 2AT   Classic French    NaN   \n",
       "33         Mayfair  United Kingdom  W1K 1QA           French    NaN   \n",
       "34         Mayfair  United Kingdom  W1S 3BF         Japanese    NaN   \n",
       "35         Chelsea  United Kingdom  SW3 4HP           French    NaN   \n",
       "\n",
       "                                                  url  Michelin Stars  \n",
       "0   https://guide.michelin.com/at/en/vorarlberg/kl...               1  \n",
       "1   https://guide.michelin.com/at/en/salzburg-regi...               1  \n",
       "2   https://guide.michelin.com/at/en/salzburg-regi...               1  \n",
       "3   https://guide.michelin.com/at/en/salzburg-regi...               1  \n",
       "4   https://guide.michelin.com/at/en/vienna/wien/r...               1  \n",
       "..                                                ...             ...  \n",
       "31  https://guide.michelin.com/gb/en/buckinghamshi...               3  \n",
       "32  https://guide.michelin.com/gb/en/buckinghamshi...               3  \n",
       "33  https://guide.michelin.com/gb/en/greater-londo...               3  \n",
       "34  https://guide.michelin.com/gb/en/greater-londo...               3  \n",
       "35  https://guide.michelin.com/gb/en/greater-londo...               3  \n",
       "\n",
       "[695 rows x 11 columns]"
      ]
     },
     "execution_count": 14,
     "metadata": {},
     "output_type": "execute_result"
    }
   ],
   "source": [
    "df"
   ]
  },
  {
   "cell_type": "code",
   "execution_count": 15,
   "id": "941a249e-7c83-43ca-a65a-014d7893271c",
   "metadata": {
    "execution": {
     "iopub.execute_input": "2023-05-27T09:17:19.097662Z",
     "iopub.status.busy": "2023-05-27T09:17:19.097662Z",
     "iopub.status.idle": "2023-05-27T09:17:19.126273Z",
     "shell.execute_reply": "2023-05-27T09:17:19.125270Z",
     "shell.execute_reply.started": "2023-05-27T09:17:19.097662Z"
    },
    "tags": []
   },
   "outputs": [
    {
     "name": "stdout",
     "output_type": "stream",
     "text": [
      "<class 'pandas.core.frame.DataFrame'>\n",
      "Int64Index: 695 entries, 0 to 35\n",
      "Data columns (total 11 columns):\n",
      " #   Column          Non-Null Count  Dtype  \n",
      "---  ------          --------------  -----  \n",
      " 0   name            695 non-null    object \n",
      " 1   year            695 non-null    int64  \n",
      " 2   latitude        695 non-null    float64\n",
      " 3   longitude       695 non-null    float64\n",
      " 4   city            693 non-null    object \n",
      " 5   region          695 non-null    object \n",
      " 6   zipCode         501 non-null    object \n",
      " 7   cuisine         695 non-null    object \n",
      " 8   price           519 non-null    object \n",
      " 9   url             695 non-null    object \n",
      " 10  Michelin Stars  695 non-null    int64  \n",
      "dtypes: float64(2), int64(2), object(7)\n",
      "memory usage: 65.2+ KB\n"
     ]
    }
   ],
   "source": [
    "df.info()"
   ]
  },
  {
   "cell_type": "markdown",
   "id": "cee5f9a4-94a5-4a02-a942-954604a1fc15",
   "metadata": {},
   "source": [
    "#### Clean Data"
   ]
  },
  {
   "cell_type": "code",
   "execution_count": 19,
   "id": "68988931-64aa-43ab-b0af-a8239cdae4c4",
   "metadata": {
    "execution": {
     "iopub.execute_input": "2023-05-27T09:21:11.959422Z",
     "iopub.status.busy": "2023-05-27T09:21:11.958127Z",
     "iopub.status.idle": "2023-05-27T09:21:11.969479Z",
     "shell.execute_reply": "2023-05-27T09:21:11.968473Z",
     "shell.execute_reply.started": "2023-05-27T09:21:11.959422Z"
    },
    "tags": []
   },
   "outputs": [],
   "source": [
    "df.drop(columns=['url', 'zipCode'], inplace=True)"
   ]
  },
  {
   "cell_type": "code",
   "execution_count": 32,
   "id": "ff21211e-9cb4-42ac-a8e2-b313a5f89a89",
   "metadata": {
    "execution": {
     "iopub.execute_input": "2023-05-27T09:29:26.222059Z",
     "iopub.status.busy": "2023-05-27T09:29:26.221056Z",
     "iopub.status.idle": "2023-05-27T09:29:26.239086Z",
     "shell.execute_reply": "2023-05-27T09:29:26.238085Z",
     "shell.execute_reply.started": "2023-05-27T09:29:26.222059Z"
    },
    "tags": []
   },
   "outputs": [],
   "source": [
    "df.dropna(subset='price', inplace=True)"
   ]
  },
  {
   "cell_type": "code",
   "execution_count": 35,
   "id": "96b768e4-2a72-4ff8-ba4b-f16c46e38cbf",
   "metadata": {
    "execution": {
     "iopub.execute_input": "2023-05-27T09:30:39.906607Z",
     "iopub.status.busy": "2023-05-27T09:30:39.906607Z",
     "iopub.status.idle": "2023-05-27T09:30:39.926668Z",
     "shell.execute_reply": "2023-05-27T09:30:39.925668Z",
     "shell.execute_reply.started": "2023-05-27T09:30:39.906607Z"
    },
    "tags": []
   },
   "outputs": [
    {
     "name": "stdout",
     "output_type": "stream",
     "text": [
      "<class 'pandas.core.frame.DataFrame'>\n",
      "Int64Index: 519 entries, 0 to 30\n",
      "Data columns (total 9 columns):\n",
      " #   Column          Non-Null Count  Dtype  \n",
      "---  ------          --------------  -----  \n",
      " 0   name            519 non-null    object \n",
      " 1   year            519 non-null    int64  \n",
      " 2   latitude        519 non-null    float64\n",
      " 3   longitude       519 non-null    float64\n",
      " 4   city            517 non-null    object \n",
      " 5   region          519 non-null    object \n",
      " 6   cuisine         519 non-null    object \n",
      " 7   price           519 non-null    object \n",
      " 8   Michelin Stars  519 non-null    int64  \n",
      "dtypes: float64(2), int64(2), object(5)\n",
      "memory usage: 40.5+ KB\n"
     ]
    }
   ],
   "source": [
    "df.info()"
   ]
  },
  {
   "cell_type": "code",
   "execution_count": 59,
   "id": "1a9cb390-a648-469a-ab0e-bce3e2ca1079",
   "metadata": {
    "execution": {
     "iopub.execute_input": "2023-05-27T09:50:29.185866Z",
     "iopub.status.busy": "2023-05-27T09:50:29.184866Z",
     "iopub.status.idle": "2023-05-27T09:50:29.203719Z",
     "shell.execute_reply": "2023-05-27T09:50:29.202718Z",
     "shell.execute_reply.started": "2023-05-27T09:50:29.185866Z"
    },
    "tags": []
   },
   "outputs": [],
   "source": [
    "def convert_dollars(str_cell):\n",
    "    if str_cell == '$':\n",
    "        price = 1\n",
    "    elif str_cell == '$$':\n",
    "        price = 2\n",
    "    elif str_cell == '$$$':\n",
    "        price = 3\n",
    "    elif str_cell == '$$$$':\n",
    "        price = 4\n",
    "    elif str_cell == '$$$$$':\n",
    "        price = 5\n",
    "    else:\n",
    "        price = 0\n",
    "    return int(price)"
   ]
  },
  {
   "cell_type": "code",
   "execution_count": 60,
   "id": "890b2d32-e0f1-4ef7-ac3e-bbe64ff135b8",
   "metadata": {
    "execution": {
     "iopub.execute_input": "2023-05-27T09:50:30.135374Z",
     "iopub.status.busy": "2023-05-27T09:50:30.134373Z",
     "iopub.status.idle": "2023-05-27T09:50:30.151381Z",
     "shell.execute_reply": "2023-05-27T09:50:30.150250Z",
     "shell.execute_reply.started": "2023-05-27T09:50:30.135374Z"
    },
    "tags": []
   },
   "outputs": [],
   "source": [
    "df['price'] = list(map(convert_dollars, df['price']))"
   ]
  },
  {
   "cell_type": "code",
   "execution_count": 65,
   "id": "8e63a106-7a9a-40d3-ab71-e3d8b82c3afc",
   "metadata": {
    "execution": {
     "iopub.execute_input": "2023-05-27T09:51:38.574938Z",
     "iopub.status.busy": "2023-05-27T09:51:38.574938Z",
     "iopub.status.idle": "2023-05-27T09:51:38.585259Z",
     "shell.execute_reply": "2023-05-27T09:51:38.584257Z",
     "shell.execute_reply.started": "2023-05-27T09:51:38.574938Z"
    },
    "tags": []
   },
   "outputs": [],
   "source": [
    "#df['dollar_count'] = df['price'].apply(lambda x: len(re.findall(r'$+', x)))"
   ]
  },
  {
   "cell_type": "code",
   "execution_count": 61,
   "id": "ba66c39c-a260-4614-a89d-4feebb5be701",
   "metadata": {
    "execution": {
     "iopub.execute_input": "2023-05-27T09:50:32.493545Z",
     "iopub.status.busy": "2023-05-27T09:50:32.493545Z",
     "iopub.status.idle": "2023-05-27T09:50:32.521293Z",
     "shell.execute_reply": "2023-05-27T09:50:32.520287Z",
     "shell.execute_reply.started": "2023-05-27T09:50:32.493545Z"
    },
    "tags": []
   },
   "outputs": [
    {
     "data": {
      "text/html": [
       "<div>\n",
       "<style scoped>\n",
       "    .dataframe tbody tr th:only-of-type {\n",
       "        vertical-align: middle;\n",
       "    }\n",
       "\n",
       "    .dataframe tbody tr th {\n",
       "        vertical-align: top;\n",
       "    }\n",
       "\n",
       "    .dataframe thead th {\n",
       "        text-align: right;\n",
       "    }\n",
       "</style>\n",
       "<table border=\"1\" class=\"dataframe\">\n",
       "  <thead>\n",
       "    <tr style=\"text-align: right;\">\n",
       "      <th></th>\n",
       "      <th>name</th>\n",
       "      <th>year</th>\n",
       "      <th>latitude</th>\n",
       "      <th>longitude</th>\n",
       "      <th>city</th>\n",
       "      <th>region</th>\n",
       "      <th>cuisine</th>\n",
       "      <th>price</th>\n",
       "      <th>Michelin Stars</th>\n",
       "      <th>dollar_count</th>\n",
       "    </tr>\n",
       "  </thead>\n",
       "  <tbody>\n",
       "    <tr>\n",
       "      <th>0</th>\n",
       "      <td>Kilian Stuba</td>\n",
       "      <td>2019</td>\n",
       "      <td>47.348580</td>\n",
       "      <td>10.17114</td>\n",
       "      <td>Kleinwalsertal</td>\n",
       "      <td>Austria</td>\n",
       "      <td>Creative</td>\n",
       "      <td>5</td>\n",
       "      <td>1</td>\n",
       "      <td>1</td>\n",
       "    </tr>\n",
       "    <tr>\n",
       "      <th>1</th>\n",
       "      <td>Pfefferschiff</td>\n",
       "      <td>2019</td>\n",
       "      <td>47.837870</td>\n",
       "      <td>13.07917</td>\n",
       "      <td>Hallwang</td>\n",
       "      <td>Austria</td>\n",
       "      <td>Classic cuisine</td>\n",
       "      <td>5</td>\n",
       "      <td>1</td>\n",
       "      <td>1</td>\n",
       "    </tr>\n",
       "    <tr>\n",
       "      <th>2</th>\n",
       "      <td>Esszimmer</td>\n",
       "      <td>2019</td>\n",
       "      <td>47.806850</td>\n",
       "      <td>13.03409</td>\n",
       "      <td>Salzburg</td>\n",
       "      <td>Austria</td>\n",
       "      <td>Creative</td>\n",
       "      <td>5</td>\n",
       "      <td>1</td>\n",
       "      <td>1</td>\n",
       "    </tr>\n",
       "    <tr>\n",
       "      <th>3</th>\n",
       "      <td>Carpe Diem</td>\n",
       "      <td>2019</td>\n",
       "      <td>47.800010</td>\n",
       "      <td>13.04006</td>\n",
       "      <td>Salzburg</td>\n",
       "      <td>Austria</td>\n",
       "      <td>Market cuisine</td>\n",
       "      <td>5</td>\n",
       "      <td>1</td>\n",
       "      <td>1</td>\n",
       "    </tr>\n",
       "    <tr>\n",
       "      <th>4</th>\n",
       "      <td>Edvard</td>\n",
       "      <td>2019</td>\n",
       "      <td>48.216503</td>\n",
       "      <td>16.36852</td>\n",
       "      <td>Wien</td>\n",
       "      <td>Austria</td>\n",
       "      <td>Modern cuisine</td>\n",
       "      <td>4</td>\n",
       "      <td>1</td>\n",
       "      <td>1</td>\n",
       "    </tr>\n",
       "    <tr>\n",
       "      <th>...</th>\n",
       "      <td>...</td>\n",
       "      <td>...</td>\n",
       "      <td>...</td>\n",
       "      <td>...</td>\n",
       "      <td>...</td>\n",
       "      <td>...</td>\n",
       "      <td>...</td>\n",
       "      <td>...</td>\n",
       "      <td>...</td>\n",
       "      <td>...</td>\n",
       "    </tr>\n",
       "    <tr>\n",
       "      <th>26</th>\n",
       "      <td>La Yeon</td>\n",
       "      <td>2019</td>\n",
       "      <td>37.555813</td>\n",
       "      <td>127.00517</td>\n",
       "      <td>Seoul</td>\n",
       "      <td>South Korea</td>\n",
       "      <td>Korean</td>\n",
       "      <td>4</td>\n",
       "      <td>3</td>\n",
       "      <td>1</td>\n",
       "    </tr>\n",
       "    <tr>\n",
       "      <th>27</th>\n",
       "      <td>Gaon</td>\n",
       "      <td>2019</td>\n",
       "      <td>37.522650</td>\n",
       "      <td>127.03595</td>\n",
       "      <td>Seoul</td>\n",
       "      <td>South Korea</td>\n",
       "      <td>Korean</td>\n",
       "      <td>5</td>\n",
       "      <td>3</td>\n",
       "      <td>1</td>\n",
       "    </tr>\n",
       "    <tr>\n",
       "      <th>28</th>\n",
       "      <td>Frantzén</td>\n",
       "      <td>2019</td>\n",
       "      <td>59.334180</td>\n",
       "      <td>18.05812</td>\n",
       "      <td>Stockholm</td>\n",
       "      <td>Sweden</td>\n",
       "      <td>Modern cuisine</td>\n",
       "      <td>4</td>\n",
       "      <td>3</td>\n",
       "      <td>1</td>\n",
       "    </tr>\n",
       "    <tr>\n",
       "      <th>29</th>\n",
       "      <td>Le Palais</td>\n",
       "      <td>2019</td>\n",
       "      <td>25.049496</td>\n",
       "      <td>121.51674</td>\n",
       "      <td>Taipei</td>\n",
       "      <td>Taipei</td>\n",
       "      <td>Cantonese</td>\n",
       "      <td>2</td>\n",
       "      <td>3</td>\n",
       "      <td>1</td>\n",
       "    </tr>\n",
       "    <tr>\n",
       "      <th>30</th>\n",
       "      <td>The Inn at Little Washington</td>\n",
       "      <td>2019</td>\n",
       "      <td>38.713623</td>\n",
       "      <td>-78.16208</td>\n",
       "      <td>Washington, D.C.</td>\n",
       "      <td>Washington DC</td>\n",
       "      <td>American</td>\n",
       "      <td>4</td>\n",
       "      <td>3</td>\n",
       "      <td>1</td>\n",
       "    </tr>\n",
       "  </tbody>\n",
       "</table>\n",
       "<p>519 rows × 10 columns</p>\n",
       "</div>"
      ],
      "text/plain": [
       "                            name  year   latitude  longitude  \\\n",
       "0                   Kilian Stuba  2019  47.348580   10.17114   \n",
       "1                  Pfefferschiff  2019  47.837870   13.07917   \n",
       "2                      Esszimmer  2019  47.806850   13.03409   \n",
       "3                     Carpe Diem  2019  47.800010   13.04006   \n",
       "4                         Edvard  2019  48.216503   16.36852   \n",
       "..                           ...   ...        ...        ...   \n",
       "26                       La Yeon  2019  37.555813  127.00517   \n",
       "27                          Gaon  2019  37.522650  127.03595   \n",
       "28                      Frantzén  2019  59.334180   18.05812   \n",
       "29                     Le Palais  2019  25.049496  121.51674   \n",
       "30  The Inn at Little Washington  2019  38.713623  -78.16208   \n",
       "\n",
       "                city         region          cuisine  price  Michelin Stars  \\\n",
       "0     Kleinwalsertal        Austria         Creative      5               1   \n",
       "1           Hallwang        Austria  Classic cuisine      5               1   \n",
       "2           Salzburg        Austria         Creative      5               1   \n",
       "3           Salzburg        Austria   Market cuisine      5               1   \n",
       "4               Wien        Austria   Modern cuisine      4               1   \n",
       "..               ...            ...              ...    ...             ...   \n",
       "26             Seoul    South Korea           Korean      4               3   \n",
       "27             Seoul    South Korea           Korean      5               3   \n",
       "28         Stockholm         Sweden   Modern cuisine      4               3   \n",
       "29            Taipei         Taipei        Cantonese      2               3   \n",
       "30  Washington, D.C.  Washington DC         American      4               3   \n",
       "\n",
       "    dollar_count  \n",
       "0              1  \n",
       "1              1  \n",
       "2              1  \n",
       "3              1  \n",
       "4              1  \n",
       "..           ...  \n",
       "26             1  \n",
       "27             1  \n",
       "28             1  \n",
       "29             1  \n",
       "30             1  \n",
       "\n",
       "[519 rows x 10 columns]"
      ]
     },
     "execution_count": 61,
     "metadata": {},
     "output_type": "execute_result"
    }
   ],
   "source": [
    "df"
   ]
  },
  {
   "cell_type": "code",
   "execution_count": 69,
   "id": "a6546c2a-08de-4047-a791-3cf294945fd5",
   "metadata": {
    "execution": {
     "iopub.execute_input": "2023-05-27T09:52:56.548084Z",
     "iopub.status.busy": "2023-05-27T09:52:56.547085Z",
     "iopub.status.idle": "2023-05-27T09:52:56.564613Z",
     "shell.execute_reply": "2023-05-27T09:52:56.563613Z",
     "shell.execute_reply.started": "2023-05-27T09:52:56.548084Z"
    },
    "tags": []
   },
   "outputs": [
    {
     "name": "stdout",
     "output_type": "stream",
     "text": [
      "<class 'pandas.core.frame.DataFrame'>\n",
      "Int64Index: 519 entries, 0 to 30\n",
      "Data columns (total 9 columns):\n",
      " #   Column          Non-Null Count  Dtype  \n",
      "---  ------          --------------  -----  \n",
      " 0   name            519 non-null    object \n",
      " 1   year            519 non-null    int64  \n",
      " 2   latitude        519 non-null    float64\n",
      " 3   longitude       519 non-null    float64\n",
      " 4   city            517 non-null    object \n",
      " 5   region          519 non-null    object \n",
      " 6   cuisine         519 non-null    object \n",
      " 7   price           519 non-null    int64  \n",
      " 8   Michelin Stars  519 non-null    int64  \n",
      "dtypes: float64(2), int64(3), object(4)\n",
      "memory usage: 56.7+ KB\n"
     ]
    }
   ],
   "source": [
    "df.info()"
   ]
  },
  {
   "cell_type": "code",
   "execution_count": 70,
   "id": "79e293fc-dc3b-4ee8-9594-012e44f76aa6",
   "metadata": {
    "execution": {
     "iopub.execute_input": "2023-05-27T09:53:17.482221Z",
     "iopub.status.busy": "2023-05-27T09:53:17.482221Z",
     "iopub.status.idle": "2023-05-27T09:53:17.507065Z",
     "shell.execute_reply": "2023-05-27T09:53:17.506064Z",
     "shell.execute_reply.started": "2023-05-27T09:53:17.482221Z"
    },
    "tags": []
   },
   "outputs": [],
   "source": [
    "# converting to CSV file\n",
    "path = Path(\"one-star-michelin-restaurants.csv\")\n",
    "file_path = str(path.parent.absolute().parent.absolute()) + '\\\\01. Data\\\\Cleaned_Data.csv'\n",
    "df.to_csv(file_path)"
   ]
  }
 ],
 "metadata": {
  "kernelspec": {
   "display_name": "Python 3 (ipykernel)",
   "language": "python",
   "name": "python3"
  },
  "language_info": {
   "codemirror_mode": {
    "name": "ipython",
    "version": 3
   },
   "file_extension": ".py",
   "mimetype": "text/x-python",
   "name": "python",
   "nbconvert_exporter": "python",
   "pygments_lexer": "ipython3",
   "version": "3.8.16"
  }
 },
 "nbformat": 4,
 "nbformat_minor": 5
}
